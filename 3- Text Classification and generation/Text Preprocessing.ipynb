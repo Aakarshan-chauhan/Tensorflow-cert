{
 "cells": [
  {
   "cell_type": "markdown",
   "metadata": {
    "papermill": {
     "duration": 0.014291,
     "end_time": "2020-09-21T15:54:18.124642",
     "exception": false,
     "start_time": "2020-09-21T15:54:18.110351",
     "status": "completed"
    },
    "tags": []
   },
   "source": [
    "# Preprocessing Text to be used in models"
   ]
  },
  {
   "cell_type": "markdown",
   "metadata": {
    "papermill": {
     "duration": 0.012679,
     "end_time": "2020-09-21T15:54:18.151139",
     "exception": false,
     "start_time": "2020-09-21T15:54:18.138460",
     "status": "completed"
    },
    "tags": []
   },
   "source": [
    "## Importing the required libraries"
   ]
  },
  {
   "cell_type": "code",
   "execution_count": 1,
   "metadata": {
    "_cell_guid": "b1076dfc-b9ad-4769-8c92-a6c4dae69d19",
    "_uuid": "8f2839f25d086af736a60e9eeb907d3b93b6e0e5",
    "execution": {
     "iopub.execute_input": "2020-09-21T15:54:18.184979Z",
     "iopub.status.busy": "2020-09-21T15:54:18.184167Z",
     "iopub.status.idle": "2020-09-21T15:54:28.019181Z",
     "shell.execute_reply": "2020-09-21T15:54:28.018395Z"
    },
    "papermill": {
     "duration": 9.85518,
     "end_time": "2020-09-21T15:54:28.019377",
     "exception": false,
     "start_time": "2020-09-21T15:54:18.164197",
     "status": "completed"
    },
    "tags": []
   },
   "outputs": [],
   "source": [
    "import pandas as pd\n",
    "import numpy as np\n",
    "import plotly.express as px\n",
    "\n",
    "from sklearn.model_selection import train_test_split\n",
    "from tensorflow.keras.preprocessing.text import Tokenizer\n",
    "from tensorflow.keras.preprocessing.sequence import pad_sequences\n",
    "import re\n",
    "from nltk.stem.snowball import SnowballStemmer\n",
    "import tqdm\n"
   ]
  },
  {
   "cell_type": "markdown",
   "metadata": {
    "papermill": {
     "duration": 0.0137,
     "end_time": "2020-09-21T15:54:28.047248",
     "exception": false,
     "start_time": "2020-09-21T15:54:28.033548",
     "status": "completed"
    },
    "tags": []
   },
   "source": [
    "## Read the csv and extract the comments and the labels"
   ]
  },
  {
   "cell_type": "code",
   "execution_count": 2,
   "metadata": {
    "_cell_guid": "79c7e3d0-c299-4dcb-8224-4455121ee9b0",
    "_uuid": "d629ff2d2480ee46fbb7e2d37f6b5fab8052498a",
    "execution": {
     "iopub.execute_input": "2020-09-21T15:54:28.093966Z",
     "iopub.status.busy": "2020-09-21T15:54:28.093028Z",
     "iopub.status.idle": "2020-09-21T15:54:33.990142Z",
     "shell.execute_reply": "2020-09-21T15:54:33.989466Z"
    },
    "papermill": {
     "duration": 5.927932,
     "end_time": "2020-09-21T15:54:33.990293",
     "exception": false,
     "start_time": "2020-09-21T15:54:28.062361",
     "status": "completed"
    },
    "tags": []
   },
   "outputs": [
    {
     "data": {
      "text/html": [
       "<div>\n",
       "<style scoped>\n",
       "    .dataframe tbody tr th:only-of-type {\n",
       "        vertical-align: middle;\n",
       "    }\n",
       "\n",
       "    .dataframe tbody tr th {\n",
       "        vertical-align: top;\n",
       "    }\n",
       "\n",
       "    .dataframe thead th {\n",
       "        text-align: right;\n",
       "    }\n",
       "</style>\n",
       "<table border=\"1\" class=\"dataframe\">\n",
       "  <thead>\n",
       "    <tr style=\"text-align: right;\">\n",
       "      <th></th>\n",
       "      <th>label</th>\n",
       "      <th>comment</th>\n",
       "      <th>author</th>\n",
       "      <th>subreddit</th>\n",
       "      <th>score</th>\n",
       "      <th>ups</th>\n",
       "      <th>downs</th>\n",
       "      <th>date</th>\n",
       "      <th>created_utc</th>\n",
       "      <th>parent_comment</th>\n",
       "    </tr>\n",
       "  </thead>\n",
       "  <tbody>\n",
       "    <tr>\n",
       "      <th>0</th>\n",
       "      <td>0</td>\n",
       "      <td>NC and NH.</td>\n",
       "      <td>Trumpbart</td>\n",
       "      <td>politics</td>\n",
       "      <td>2</td>\n",
       "      <td>-1</td>\n",
       "      <td>-1</td>\n",
       "      <td>2016-10</td>\n",
       "      <td>2016-10-16 23:55:23</td>\n",
       "      <td>Yeah, I get that argument. At this point, I'd ...</td>\n",
       "    </tr>\n",
       "    <tr>\n",
       "      <th>1</th>\n",
       "      <td>0</td>\n",
       "      <td>You do know west teams play against west teams...</td>\n",
       "      <td>Shbshb906</td>\n",
       "      <td>nba</td>\n",
       "      <td>-4</td>\n",
       "      <td>-1</td>\n",
       "      <td>-1</td>\n",
       "      <td>2016-11</td>\n",
       "      <td>2016-11-01 00:24:10</td>\n",
       "      <td>The blazers and Mavericks (The wests 5 and 6 s...</td>\n",
       "    </tr>\n",
       "    <tr>\n",
       "      <th>2</th>\n",
       "      <td>0</td>\n",
       "      <td>They were underdogs earlier today, but since G...</td>\n",
       "      <td>Creepeth</td>\n",
       "      <td>nfl</td>\n",
       "      <td>3</td>\n",
       "      <td>3</td>\n",
       "      <td>0</td>\n",
       "      <td>2016-09</td>\n",
       "      <td>2016-09-22 21:45:37</td>\n",
       "      <td>They're favored to win.</td>\n",
       "    </tr>\n",
       "    <tr>\n",
       "      <th>3</th>\n",
       "      <td>0</td>\n",
       "      <td>This meme isn't funny none of the \"new york ni...</td>\n",
       "      <td>icebrotha</td>\n",
       "      <td>BlackPeopleTwitter</td>\n",
       "      <td>-8</td>\n",
       "      <td>-1</td>\n",
       "      <td>-1</td>\n",
       "      <td>2016-10</td>\n",
       "      <td>2016-10-18 21:03:47</td>\n",
       "      <td>deadass don't kill my buzz</td>\n",
       "    </tr>\n",
       "    <tr>\n",
       "      <th>4</th>\n",
       "      <td>0</td>\n",
       "      <td>I could use one of those tools.</td>\n",
       "      <td>cush2push</td>\n",
       "      <td>MaddenUltimateTeam</td>\n",
       "      <td>6</td>\n",
       "      <td>-1</td>\n",
       "      <td>-1</td>\n",
       "      <td>2016-12</td>\n",
       "      <td>2016-12-30 17:00:13</td>\n",
       "      <td>Yep can confirm I saw the tool they use for th...</td>\n",
       "    </tr>\n",
       "  </tbody>\n",
       "</table>\n",
       "</div>"
      ],
      "text/plain": [
       "   label                                            comment     author  \\\n",
       "0      0                                         NC and NH.  Trumpbart   \n",
       "1      0  You do know west teams play against west teams...  Shbshb906   \n",
       "2      0  They were underdogs earlier today, but since G...   Creepeth   \n",
       "3      0  This meme isn't funny none of the \"new york ni...  icebrotha   \n",
       "4      0                    I could use one of those tools.  cush2push   \n",
       "\n",
       "            subreddit  score  ups  downs     date          created_utc  \\\n",
       "0            politics      2   -1     -1  2016-10  2016-10-16 23:55:23   \n",
       "1                 nba     -4   -1     -1  2016-11  2016-11-01 00:24:10   \n",
       "2                 nfl      3    3      0  2016-09  2016-09-22 21:45:37   \n",
       "3  BlackPeopleTwitter     -8   -1     -1  2016-10  2016-10-18 21:03:47   \n",
       "4  MaddenUltimateTeam      6   -1     -1  2016-12  2016-12-30 17:00:13   \n",
       "\n",
       "                                      parent_comment  \n",
       "0  Yeah, I get that argument. At this point, I'd ...  \n",
       "1  The blazers and Mavericks (The wests 5 and 6 s...  \n",
       "2                            They're favored to win.  \n",
       "3                         deadass don't kill my buzz  \n",
       "4  Yep can confirm I saw the tool they use for th...  "
      ]
     },
     "execution_count": 2,
     "metadata": {},
     "output_type": "execute_result"
    }
   ],
   "source": [
    "dir = \"../input/sarcastic-comments-on-reddit/train-balanced-sarcasm.csv\"\n",
    "data = pd.read_csv(dir)\n",
    "data.head(5)"
   ]
  },
  {
   "cell_type": "code",
   "execution_count": 3,
   "metadata": {
    "execution": {
     "iopub.execute_input": "2020-09-21T15:54:34.028132Z",
     "iopub.status.busy": "2020-09-21T15:54:34.027003Z",
     "iopub.status.idle": "2020-09-21T15:54:34.030819Z",
     "shell.execute_reply": "2020-09-21T15:54:34.031590Z"
    },
    "papermill": {
     "duration": 0.026089,
     "end_time": "2020-09-21T15:54:34.031772",
     "exception": false,
     "start_time": "2020-09-21T15:54:34.005683",
     "status": "completed"
    },
    "tags": []
   },
   "outputs": [],
   "source": [
    "comments = data['comment'].values\n",
    "labels = data['label'].values"
   ]
  },
  {
   "cell_type": "markdown",
   "metadata": {
    "papermill": {
     "duration": 0.014338,
     "end_time": "2020-09-21T15:54:34.062196",
     "exception": false,
     "start_time": "2020-09-21T15:54:34.047858",
     "status": "completed"
    },
    "tags": []
   },
   "source": [
    "## Cleaning the text and removing links/ punctuation and so on.."
   ]
  },
  {
   "cell_type": "code",
   "execution_count": 4,
   "metadata": {
    "execution": {
     "iopub.execute_input": "2020-09-21T15:54:34.099280Z",
     "iopub.status.busy": "2020-09-21T15:54:34.098466Z",
     "iopub.status.idle": "2020-09-21T15:54:34.101611Z",
     "shell.execute_reply": "2020-09-21T15:54:34.100839Z"
    },
    "papermill": {
     "duration": 0.023555,
     "end_time": "2020-09-21T15:54:34.101739",
     "exception": false,
     "start_time": "2020-09-21T15:54:34.078184",
     "status": "completed"
    },
    "tags": []
   },
   "outputs": [],
   "source": [
    "text_cleaning = \"@\\S+|https?:\\S+|http?:\\S|[^A-Za-z0-9]+\"\n",
    "stemmer = SnowballStemmer('english', ignore_stopwords=False)"
   ]
  },
  {
   "cell_type": "code",
   "execution_count": 5,
   "metadata": {
    "execution": {
     "iopub.execute_input": "2020-09-21T15:54:34.142065Z",
     "iopub.status.busy": "2020-09-21T15:54:34.140945Z",
     "iopub.status.idle": "2020-09-21T15:55:27.199071Z",
     "shell.execute_reply": "2020-09-21T15:55:27.199771Z"
    },
    "papermill": {
     "duration": 53.082504,
     "end_time": "2020-09-21T15:55:27.199955",
     "exception": false,
     "start_time": "2020-09-21T15:54:34.117451",
     "status": "completed"
    },
    "tags": []
   },
   "outputs": [
    {
     "name": "stderr",
     "output_type": "stream",
     "text": [
      "100%|██████████| 1010826/1010826 [00:53<00:00, 19053.89it/s]\n"
     ]
    }
   ],
   "source": [
    "def preprocess_data(text):\n",
    "    text = re.sub(text_cleaning, ' ', str(text).lower()).strip()\n",
    "    text = stemmer.stem(str(text))\n",
    "    return text\n",
    "\n",
    "X = []\n",
    "for i in tqdm.tqdm(range(len(comments))):\n",
    "    X.append(preprocess_data(comments[i]))"
   ]
  },
  {
   "cell_type": "markdown",
   "metadata": {
    "papermill": {
     "duration": 0.227582,
     "end_time": "2020-09-21T15:55:27.655418",
     "exception": false,
     "start_time": "2020-09-21T15:55:27.427836",
     "status": "completed"
    },
    "tags": []
   },
   "source": [
    "## Tokenize the cleaned text and pad them accordingly"
   ]
  },
  {
   "cell_type": "code",
   "execution_count": 6,
   "metadata": {
    "execution": {
     "iopub.execute_input": "2020-09-21T15:55:28.174915Z",
     "iopub.status.busy": "2020-09-21T15:55:28.135119Z",
     "iopub.status.idle": "2020-09-21T15:55:52.487903Z",
     "shell.execute_reply": "2020-09-21T15:55:52.487145Z"
    },
    "papermill": {
     "duration": 24.606793,
     "end_time": "2020-09-21T15:55:52.488035",
     "exception": false,
     "start_time": "2020-09-21T15:55:27.881242",
     "status": "completed"
    },
    "tags": []
   },
   "outputs": [],
   "source": [
    "tokenizer = Tokenizer(oov_token='<OOV>')\n",
    "tokenizer.fit_on_texts(X)"
   ]
  },
  {
   "cell_type": "code",
   "execution_count": 7,
   "metadata": {
    "execution": {
     "iopub.execute_input": "2020-09-21T15:55:52.966706Z",
     "iopub.status.busy": "2020-09-21T15:55:52.956269Z",
     "iopub.status.idle": "2020-09-21T15:56:22.375424Z",
     "shell.execute_reply": "2020-09-21T15:56:22.376045Z"
    },
    "papermill": {
     "duration": 29.66021,
     "end_time": "2020-09-21T15:56:22.376234",
     "exception": false,
     "start_time": "2020-09-21T15:55:52.716024",
     "status": "completed"
    },
    "tags": []
   },
   "outputs": [],
   "source": [
    "sequences = tokenizer.texts_to_sequences(X)\n",
    "padded = pad_sequences(sequences, padding='post', maxlen=20)"
   ]
  },
  {
   "cell_type": "markdown",
   "metadata": {
    "papermill": {
     "duration": 0.228089,
     "end_time": "2020-09-21T15:56:22.829167",
     "exception": false,
     "start_time": "2020-09-21T15:56:22.601078",
     "status": "completed"
    },
    "tags": []
   },
   "source": [
    "## Split the data into train and test sets"
   ]
  },
  {
   "cell_type": "code",
   "execution_count": 8,
   "metadata": {
    "execution": {
     "iopub.execute_input": "2020-09-21T15:56:23.321824Z",
     "iopub.status.busy": "2020-09-21T15:56:23.320602Z",
     "iopub.status.idle": "2020-09-21T15:56:23.555488Z",
     "shell.execute_reply": "2020-09-21T15:56:23.554795Z"
    },
    "papermill": {
     "duration": 0.494995,
     "end_time": "2020-09-21T15:56:23.555629",
     "exception": false,
     "start_time": "2020-09-21T15:56:23.060634",
     "status": "completed"
    },
    "tags": []
   },
   "outputs": [],
   "source": [
    "xtrain, xtest, ytrain, ytest = train_test_split(np.array(padded), np.array(labels))"
   ]
  },
  {
   "cell_type": "markdown",
   "metadata": {
    "papermill": {
     "duration": 0.226458,
     "end_time": "2020-09-21T15:56:24.006279",
     "exception": false,
     "start_time": "2020-09-21T15:56:23.779821",
     "status": "completed"
    },
    "tags": []
   },
   "source": [
    "## Now the data is ready to be used as inputs in a neural network"
   ]
  },
  {
   "cell_type": "code",
   "execution_count": null,
   "metadata": {
    "papermill": {
     "duration": 0.230839,
     "end_time": "2020-09-21T15:56:24.474291",
     "exception": false,
     "start_time": "2020-09-21T15:56:24.243452",
     "status": "completed"
    },
    "tags": []
   },
   "outputs": [],
   "source": []
  },
  {
   "cell_type": "code",
   "execution_count": 9,
   "metadata": {
    "execution": {
     "iopub.execute_input": "2020-09-21T15:56:24.943915Z",
     "iopub.status.busy": "2020-09-21T15:56:24.943090Z",
     "iopub.status.idle": "2020-09-21T15:56:24.948543Z",
     "shell.execute_reply": "2020-09-21T15:56:24.947477Z"
    },
    "papermill": {
     "duration": 0.240232,
     "end_time": "2020-09-21T15:56:24.948717",
     "exception": false,
     "start_time": "2020-09-21T15:56:24.708485",
     "status": "completed"
    },
    "tags": []
   },
   "outputs": [
    {
     "name": "stdout",
     "output_type": "stream",
     "text": [
      "Actual Sentence: This comment makes me so hungry\n",
      "Stemmed Sentence: this comment makes me so hungri\n",
      "Tokenized: [20, 387, 181, 71, 25, 9377]\n",
      "Padded: [  20  387  181   71   25 9377    0    0    0    0    0    0    0    0\n",
      "    0    0    0    0    0    0]\n"
     ]
    }
   ],
   "source": [
    "print(f\"Actual Sentence: {comments[860]}\\nStemmed Sentence: {X[860]}\\nTokenized: {sequences[860]}\\nPadded: {padded[860]}\")"
   ]
  },
  {
   "cell_type": "code",
   "execution_count": null,
   "metadata": {
    "papermill": {
     "duration": 0.229725,
     "end_time": "2020-09-21T15:56:25.414182",
     "exception": false,
     "start_time": "2020-09-21T15:56:25.184457",
     "status": "completed"
    },
    "tags": []
   },
   "outputs": [],
   "source": []
  }
 ],
 "metadata": {
  "kernelspec": {
   "display_name": "Python 3",
   "language": "python",
   "name": "python3"
  },
  "language_info": {
   "codemirror_mode": {
    "name": "ipython",
    "version": 3
   },
   "file_extension": ".py",
   "mimetype": "text/x-python",
   "name": "python",
   "nbconvert_exporter": "python",
   "pygments_lexer": "ipython3",
   "version": "3.7.6"
  },
  "papermill": {
   "duration": 133.005051,
   "end_time": "2020-09-21T15:56:25.748187",
   "environment_variables": {},
   "exception": null,
   "input_path": "__notebook__.ipynb",
   "output_path": "__notebook__.ipynb",
   "parameters": {},
   "start_time": "2020-09-21T15:54:12.743136",
   "version": "2.1.0"
  }
 },
 "nbformat": 4,
 "nbformat_minor": 4
}
