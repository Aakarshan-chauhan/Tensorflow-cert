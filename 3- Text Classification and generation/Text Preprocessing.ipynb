{
 "cells": [
  {
   "cell_type": "markdown",
   "metadata": {
    "papermill": {
     "duration": 0.012572,
     "end_time": "2020-09-21T15:58:29.509365",
     "exception": false,
     "start_time": "2020-09-21T15:58:29.496793",
     "status": "completed"
    },
    "tags": []
   },
   "source": [
    "# Preprocessing Text to be used in models"
   ]
  },
  {
   "cell_type": "markdown",
   "metadata": {
    "papermill": {
     "duration": 0.011636,
     "end_time": "2020-09-21T15:58:29.533392",
     "exception": false,
     "start_time": "2020-09-21T15:58:29.521756",
     "status": "completed"
    },
    "tags": []
   },
   "source": [
    "# Importing the required libraries"
   ]
  },
  {
   "cell_type": "code",
   "execution_count": 1,
   "metadata": {
    "_cell_guid": "b1076dfc-b9ad-4769-8c92-a6c4dae69d19",
    "_uuid": "8f2839f25d086af736a60e9eeb907d3b93b6e0e5",
    "execution": {
     "iopub.execute_input": "2020-09-21T15:58:29.565160Z",
     "iopub.status.busy": "2020-09-21T15:58:29.564335Z",
     "iopub.status.idle": "2020-09-21T15:58:38.318586Z",
     "shell.execute_reply": "2020-09-21T15:58:38.317799Z"
    },
    "papermill": {
     "duration": 8.773203,
     "end_time": "2020-09-21T15:58:38.318735",
     "exception": false,
     "start_time": "2020-09-21T15:58:29.545532",
     "status": "completed"
    },
    "tags": []
   },
   "outputs": [],
   "source": [
    "import pandas as pd\n",
    "import numpy as np\n",
    "import plotly.express as px\n",
    "\n",
    "from sklearn.model_selection import train_test_split\n",
    "from tensorflow.keras.preprocessing.text import Tokenizer\n",
    "from tensorflow.keras.preprocessing.sequence import pad_sequences\n",
    "import re\n",
    "from nltk.stem.snowball import SnowballStemmer\n",
    "import tqdm\n"
   ]
  },
  {
   "cell_type": "markdown",
   "metadata": {
    "papermill": {
     "duration": 0.011685,
     "end_time": "2020-09-21T15:58:38.342545",
     "exception": false,
     "start_time": "2020-09-21T15:58:38.330860",
     "status": "completed"
    },
    "tags": []
   },
   "source": [
    "# Read the csv and extract the comments and the labels"
   ]
  },
  {
   "cell_type": "code",
   "execution_count": 2,
   "metadata": {
    "_cell_guid": "79c7e3d0-c299-4dcb-8224-4455121ee9b0",
    "_uuid": "d629ff2d2480ee46fbb7e2d37f6b5fab8052498a",
    "execution": {
     "iopub.execute_input": "2020-09-21T15:58:38.382654Z",
     "iopub.status.busy": "2020-09-21T15:58:38.381869Z",
     "iopub.status.idle": "2020-09-21T15:58:44.077563Z",
     "shell.execute_reply": "2020-09-21T15:58:44.078449Z"
    },
    "papermill": {
     "duration": 5.724378,
     "end_time": "2020-09-21T15:58:44.078683",
     "exception": false,
     "start_time": "2020-09-21T15:58:38.354305",
     "status": "completed"
    },
    "tags": []
   },
   "outputs": [
    {
     "data": {
      "text/html": [
       "<div>\n",
       "<style scoped>\n",
       "    .dataframe tbody tr th:only-of-type {\n",
       "        vertical-align: middle;\n",
       "    }\n",
       "\n",
       "    .dataframe tbody tr th {\n",
       "        vertical-align: top;\n",
       "    }\n",
       "\n",
       "    .dataframe thead th {\n",
       "        text-align: right;\n",
       "    }\n",
       "</style>\n",
       "<table border=\"1\" class=\"dataframe\">\n",
       "  <thead>\n",
       "    <tr style=\"text-align: right;\">\n",
       "      <th></th>\n",
       "      <th>label</th>\n",
       "      <th>comment</th>\n",
       "      <th>author</th>\n",
       "      <th>subreddit</th>\n",
       "      <th>score</th>\n",
       "      <th>ups</th>\n",
       "      <th>downs</th>\n",
       "      <th>date</th>\n",
       "      <th>created_utc</th>\n",
       "      <th>parent_comment</th>\n",
       "    </tr>\n",
       "  </thead>\n",
       "  <tbody>\n",
       "    <tr>\n",
       "      <th>0</th>\n",
       "      <td>0</td>\n",
       "      <td>NC and NH.</td>\n",
       "      <td>Trumpbart</td>\n",
       "      <td>politics</td>\n",
       "      <td>2</td>\n",
       "      <td>-1</td>\n",
       "      <td>-1</td>\n",
       "      <td>2016-10</td>\n",
       "      <td>2016-10-16 23:55:23</td>\n",
       "      <td>Yeah, I get that argument. At this point, I'd ...</td>\n",
       "    </tr>\n",
       "    <tr>\n",
       "      <th>1</th>\n",
       "      <td>0</td>\n",
       "      <td>You do know west teams play against west teams...</td>\n",
       "      <td>Shbshb906</td>\n",
       "      <td>nba</td>\n",
       "      <td>-4</td>\n",
       "      <td>-1</td>\n",
       "      <td>-1</td>\n",
       "      <td>2016-11</td>\n",
       "      <td>2016-11-01 00:24:10</td>\n",
       "      <td>The blazers and Mavericks (The wests 5 and 6 s...</td>\n",
       "    </tr>\n",
       "    <tr>\n",
       "      <th>2</th>\n",
       "      <td>0</td>\n",
       "      <td>They were underdogs earlier today, but since G...</td>\n",
       "      <td>Creepeth</td>\n",
       "      <td>nfl</td>\n",
       "      <td>3</td>\n",
       "      <td>3</td>\n",
       "      <td>0</td>\n",
       "      <td>2016-09</td>\n",
       "      <td>2016-09-22 21:45:37</td>\n",
       "      <td>They're favored to win.</td>\n",
       "    </tr>\n",
       "    <tr>\n",
       "      <th>3</th>\n",
       "      <td>0</td>\n",
       "      <td>This meme isn't funny none of the \"new york ni...</td>\n",
       "      <td>icebrotha</td>\n",
       "      <td>BlackPeopleTwitter</td>\n",
       "      <td>-8</td>\n",
       "      <td>-1</td>\n",
       "      <td>-1</td>\n",
       "      <td>2016-10</td>\n",
       "      <td>2016-10-18 21:03:47</td>\n",
       "      <td>deadass don't kill my buzz</td>\n",
       "    </tr>\n",
       "    <tr>\n",
       "      <th>4</th>\n",
       "      <td>0</td>\n",
       "      <td>I could use one of those tools.</td>\n",
       "      <td>cush2push</td>\n",
       "      <td>MaddenUltimateTeam</td>\n",
       "      <td>6</td>\n",
       "      <td>-1</td>\n",
       "      <td>-1</td>\n",
       "      <td>2016-12</td>\n",
       "      <td>2016-12-30 17:00:13</td>\n",
       "      <td>Yep can confirm I saw the tool they use for th...</td>\n",
       "    </tr>\n",
       "  </tbody>\n",
       "</table>\n",
       "</div>"
      ],
      "text/plain": [
       "   label                                            comment     author  \\\n",
       "0      0                                         NC and NH.  Trumpbart   \n",
       "1      0  You do know west teams play against west teams...  Shbshb906   \n",
       "2      0  They were underdogs earlier today, but since G...   Creepeth   \n",
       "3      0  This meme isn't funny none of the \"new york ni...  icebrotha   \n",
       "4      0                    I could use one of those tools.  cush2push   \n",
       "\n",
       "            subreddit  score  ups  downs     date          created_utc  \\\n",
       "0            politics      2   -1     -1  2016-10  2016-10-16 23:55:23   \n",
       "1                 nba     -4   -1     -1  2016-11  2016-11-01 00:24:10   \n",
       "2                 nfl      3    3      0  2016-09  2016-09-22 21:45:37   \n",
       "3  BlackPeopleTwitter     -8   -1     -1  2016-10  2016-10-18 21:03:47   \n",
       "4  MaddenUltimateTeam      6   -1     -1  2016-12  2016-12-30 17:00:13   \n",
       "\n",
       "                                      parent_comment  \n",
       "0  Yeah, I get that argument. At this point, I'd ...  \n",
       "1  The blazers and Mavericks (The wests 5 and 6 s...  \n",
       "2                            They're favored to win.  \n",
       "3                         deadass don't kill my buzz  \n",
       "4  Yep can confirm I saw the tool they use for th...  "
      ]
     },
     "execution_count": 2,
     "metadata": {},
     "output_type": "execute_result"
    }
   ],
   "source": [
    "dir = \"../input/sarcastic-comments-on-reddit/train-balanced-sarcasm.csv\"\n",
    "data = pd.read_csv(dir)\n",
    "data.head(5)"
   ]
  },
  {
   "cell_type": "code",
   "execution_count": 3,
   "metadata": {
    "execution": {
     "iopub.execute_input": "2020-09-21T15:58:44.118107Z",
     "iopub.status.busy": "2020-09-21T15:58:44.117352Z",
     "iopub.status.idle": "2020-09-21T15:58:44.120756Z",
     "shell.execute_reply": "2020-09-21T15:58:44.119996Z"
    },
    "papermill": {
     "duration": 0.023283,
     "end_time": "2020-09-21T15:58:44.120885",
     "exception": false,
     "start_time": "2020-09-21T15:58:44.097602",
     "status": "completed"
    },
    "tags": []
   },
   "outputs": [],
   "source": [
    "comments = data['comment'].values\n",
    "labels = data['label'].values"
   ]
  },
  {
   "cell_type": "markdown",
   "metadata": {
    "papermill": {
     "duration": 0.01248,
     "end_time": "2020-09-21T15:58:44.146499",
     "exception": false,
     "start_time": "2020-09-21T15:58:44.134019",
     "status": "completed"
    },
    "tags": []
   },
   "source": [
    "# Cleaning the text and removing links/ punctuation and so on.."
   ]
  },
  {
   "cell_type": "code",
   "execution_count": 4,
   "metadata": {
    "execution": {
     "iopub.execute_input": "2020-09-21T15:58:44.180138Z",
     "iopub.status.busy": "2020-09-21T15:58:44.179308Z",
     "iopub.status.idle": "2020-09-21T15:58:44.182518Z",
     "shell.execute_reply": "2020-09-21T15:58:44.181832Z"
    },
    "papermill": {
     "duration": 0.023229,
     "end_time": "2020-09-21T15:58:44.182661",
     "exception": false,
     "start_time": "2020-09-21T15:58:44.159432",
     "status": "completed"
    },
    "tags": []
   },
   "outputs": [],
   "source": [
    "text_cleaning = \"@\\S+|https?:\\S+|http?:\\S|[^A-Za-z0-9]+\"\n",
    "stemmer = SnowballStemmer('english', ignore_stopwords=False)"
   ]
  },
  {
   "cell_type": "code",
   "execution_count": 5,
   "metadata": {
    "execution": {
     "iopub.execute_input": "2020-09-21T15:58:44.218290Z",
     "iopub.status.busy": "2020-09-21T15:58:44.217388Z",
     "iopub.status.idle": "2020-09-21T15:59:35.840981Z",
     "shell.execute_reply": "2020-09-21T15:59:35.839894Z"
    },
    "papermill": {
     "duration": 51.645283,
     "end_time": "2020-09-21T15:59:35.841175",
     "exception": false,
     "start_time": "2020-09-21T15:58:44.195892",
     "status": "completed"
    },
    "tags": []
   },
   "outputs": [
    {
     "name": "stderr",
     "output_type": "stream",
     "text": [
      "100%|██████████| 1010826/1010826 [00:51<00:00, 19584.42it/s]\n"
     ]
    }
   ],
   "source": [
    "def preprocess_data(text):\n",
    "    text = re.sub(text_cleaning, ' ', str(text).lower()).strip()\n",
    "    text = stemmer.stem(str(text))\n",
    "    return text\n",
    "\n",
    "X = []\n",
    "for i in tqdm.tqdm(range(len(comments))):\n",
    "    X.append(preprocess_data(comments[i]))"
   ]
  },
  {
   "cell_type": "markdown",
   "metadata": {
    "papermill": {
     "duration": 0.220412,
     "end_time": "2020-09-21T15:59:36.280516",
     "exception": false,
     "start_time": "2020-09-21T15:59:36.060104",
     "status": "completed"
    },
    "tags": []
   },
   "source": [
    "# Tokenize the cleaned text and pad them accordingly"
   ]
  },
  {
   "cell_type": "code",
   "execution_count": 6,
   "metadata": {
    "execution": {
     "iopub.execute_input": "2020-09-21T15:59:36.792600Z",
     "iopub.status.busy": "2020-09-21T15:59:36.756101Z",
     "iopub.status.idle": "2020-09-21T16:00:00.309656Z",
     "shell.execute_reply": "2020-09-21T16:00:00.308806Z"
    },
    "papermill": {
     "duration": 23.810472,
     "end_time": "2020-09-21T16:00:00.309811",
     "exception": false,
     "start_time": "2020-09-21T15:59:36.499339",
     "status": "completed"
    },
    "tags": []
   },
   "outputs": [],
   "source": [
    "tokenizer = Tokenizer(oov_token='<OOV>')\n",
    "tokenizer.fit_on_texts(X)"
   ]
  },
  {
   "cell_type": "code",
   "execution_count": 7,
   "metadata": {
    "execution": {
     "iopub.execute_input": "2020-09-21T16:00:00.785619Z",
     "iopub.status.busy": "2020-09-21T16:00:00.770089Z",
     "iopub.status.idle": "2020-09-21T16:00:29.583349Z",
     "shell.execute_reply": "2020-09-21T16:00:29.582651Z"
    },
    "papermill": {
     "duration": 29.053173,
     "end_time": "2020-09-21T16:00:29.583479",
     "exception": false,
     "start_time": "2020-09-21T16:00:00.530306",
     "status": "completed"
    },
    "tags": []
   },
   "outputs": [],
   "source": [
    "sequences = tokenizer.texts_to_sequences(X)\n",
    "padded = pad_sequences(sequences, padding='post', maxlen=20)"
   ]
  },
  {
   "cell_type": "markdown",
   "metadata": {
    "papermill": {
     "duration": 0.214842,
     "end_time": "2020-09-21T16:00:30.013153",
     "exception": false,
     "start_time": "2020-09-21T16:00:29.798311",
     "status": "completed"
    },
    "tags": []
   },
   "source": [
    "# Split the data into train and test sets"
   ]
  },
  {
   "cell_type": "code",
   "execution_count": 8,
   "metadata": {
    "execution": {
     "iopub.execute_input": "2020-09-21T16:00:30.451063Z",
     "iopub.status.busy": "2020-09-21T16:00:30.450234Z",
     "iopub.status.idle": "2020-09-21T16:00:30.658289Z",
     "shell.execute_reply": "2020-09-21T16:00:30.657597Z"
    },
    "papermill": {
     "duration": 0.429954,
     "end_time": "2020-09-21T16:00:30.658414",
     "exception": false,
     "start_time": "2020-09-21T16:00:30.228460",
     "status": "completed"
    },
    "tags": []
   },
   "outputs": [],
   "source": [
    "xtrain, xtest, ytrain, ytest = train_test_split(np.array(padded), np.array(labels))"
   ]
  },
  {
   "cell_type": "markdown",
   "metadata": {
    "papermill": {
     "duration": 0.217702,
     "end_time": "2020-09-21T16:00:31.092086",
     "exception": false,
     "start_time": "2020-09-21T16:00:30.874384",
     "status": "completed"
    },
    "tags": []
   },
   "source": [
    "# Now the data is ready to be used as inputs in a neural network"
   ]
  },
  {
   "cell_type": "code",
   "execution_count": 9,
   "metadata": {
    "execution": {
     "iopub.execute_input": "2020-09-21T16:00:31.530949Z",
     "iopub.status.busy": "2020-09-21T16:00:31.529984Z",
     "iopub.status.idle": "2020-09-21T16:00:31.533936Z",
     "shell.execute_reply": "2020-09-21T16:00:31.534734Z"
    },
    "papermill": {
     "duration": 0.227406,
     "end_time": "2020-09-21T16:00:31.534914",
     "exception": false,
     "start_time": "2020-09-21T16:00:31.307508",
     "status": "completed"
    },
    "tags": []
   },
   "outputs": [
    {
     "name": "stdout",
     "output_type": "stream",
     "text": [
      "Actual Sentence: This comment makes me so hungry\n",
      "Stemmed Sentence: this comment makes me so hungri\n",
      "Tokenized: [20, 387, 181, 71, 25, 9377]\n",
      "Padded: [  20  387  181   71   25 9377    0    0    0    0    0    0    0    0\n",
      "    0    0    0    0    0    0]\n"
     ]
    }
   ],
   "source": [
    "print(f\"Actual Sentence: {comments[860]}\\nStemmed Sentence: {X[860]}\\nTokenized: {sequences[860]}\\nPadded: {padded[860]}\")"
   ]
  }
 ],
 "metadata": {
  "kernelspec": {
   "display_name": "Python 3",
   "language": "python",
   "name": "python3"
  },
  "language_info": {
   "codemirror_mode": {
    "name": "ipython",
    "version": 3
   },
   "file_extension": ".py",
   "mimetype": "text/x-python",
   "name": "python",
   "nbconvert_exporter": "python",
   "pygments_lexer": "ipython3",
   "version": "3.7.6"
  },
  "papermill": {
   "duration": 127.190734,
   "end_time": "2020-09-21T16:00:31.858343",
   "environment_variables": {},
   "exception": null,
   "input_path": "__notebook__.ipynb",
   "output_path": "__notebook__.ipynb",
   "parameters": {},
   "start_time": "2020-09-21T15:58:24.667609",
   "version": "2.1.0"
  }
 },
 "nbformat": 4,
 "nbformat_minor": 4
}
