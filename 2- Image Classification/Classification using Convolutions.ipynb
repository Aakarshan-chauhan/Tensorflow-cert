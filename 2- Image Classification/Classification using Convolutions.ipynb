{
 "cells": [
  {
   "cell_type": "code",
   "execution_count": 1,
   "metadata": {
    "_cell_guid": "b1076dfc-b9ad-4769-8c92-a6c4dae69d19",
    "_uuid": "8f2839f25d086af736a60e9eeb907d3b93b6e0e5",
    "execution": {
     "iopub.execute_input": "2020-09-20T14:42:42.642321Z",
     "iopub.status.busy": "2020-09-20T14:42:42.641568Z",
     "iopub.status.idle": "2020-09-20T14:42:47.297187Z",
     "shell.execute_reply": "2020-09-20T14:42:47.296039Z"
    },
    "papermill": {
     "duration": 4.668838,
     "end_time": "2020-09-20T14:42:47.297305",
     "exception": false,
     "start_time": "2020-09-20T14:42:42.628467",
     "status": "completed"
    },
    "tags": []
   },
   "outputs": [],
   "source": [
    "import tensorflow as tf\n",
    "from tensorflow.keras.layers import Dense, Conv2D, MaxPooling2D, Flatten, Dropout\n",
    "from tensorflow.keras.models import Model, Sequential\n",
    "from tensorflow.keras.preprocessing.image import ImageDataGenerator"
   ]
  },
  {
   "cell_type": "code",
   "execution_count": 2,
   "metadata": {
    "_cell_guid": "79c7e3d0-c299-4dcb-8224-4455121ee9b0",
    "_uuid": "d629ff2d2480ee46fbb7e2d37f6b5fab8052498a",
    "execution": {
     "iopub.execute_input": "2020-09-20T14:42:47.315598Z",
     "iopub.status.busy": "2020-09-20T14:42:47.314817Z",
     "iopub.status.idle": "2020-09-20T14:42:47.317689Z",
     "shell.execute_reply": "2020-09-20T14:42:47.317180Z"
    },
    "papermill": {
     "duration": 0.013143,
     "end_time": "2020-09-20T14:42:47.317782",
     "exception": false,
     "start_time": "2020-09-20T14:42:47.304639",
     "status": "completed"
    },
    "tags": []
   },
   "outputs": [],
   "source": [
    "dir = \"../input/natural-images/natural_images\"\n",
    "img_size = (128, 128)"
   ]
  },
  {
   "cell_type": "code",
   "execution_count": 3,
   "metadata": {
    "execution": {
     "iopub.execute_input": "2020-09-20T14:42:47.338858Z",
     "iopub.status.busy": "2020-09-20T14:42:47.337900Z",
     "iopub.status.idle": "2020-09-20T14:42:47.865484Z",
     "shell.execute_reply": "2020-09-20T14:42:47.864401Z"
    },
    "papermill": {
     "duration": 0.541255,
     "end_time": "2020-09-20T14:42:47.865640",
     "exception": false,
     "start_time": "2020-09-20T14:42:47.324385",
     "status": "completed"
    },
    "tags": []
   },
   "outputs": [
    {
     "name": "stdout",
     "output_type": "stream",
     "text": [
      "Found 5522 images belonging to 8 classes.\n",
      "Found 1377 images belonging to 8 classes.\n"
     ]
    }
   ],
   "source": [
    "datagen = ImageDataGenerator(\n",
    "    rescale=1./255, \n",
    "    horizontal_flip=True, \n",
    "    rotation_range=15, \n",
    "    validation_split=0.2\n",
    ")\n",
    "\n",
    "\n",
    "train_data = datagen.flow_from_directory(\n",
    "    dir,\n",
    "    class_mode='categorical',\n",
    "    target_size=img_size,\n",
    "    shuffle=True,\n",
    "    subset='training',\n",
    "    batch_size=32\n",
    ")\n",
    "\n",
    "test_data = datagen.flow_from_directory(\n",
    "    dir,\n",
    "    class_mode='categorical',\n",
    "    target_size=img_size,\n",
    "    shuffle=True,\n",
    "    subset='validation',\n",
    "    batch_size=32\n",
    ")\n"
   ]
  },
  {
   "cell_type": "markdown",
   "metadata": {
    "papermill": {
     "duration": 0.00804,
     "end_time": "2020-09-20T14:42:47.881957",
     "exception": false,
     "start_time": "2020-09-20T14:42:47.873917",
     "status": "completed"
    },
    "tags": []
   },
   "source": [
    "# Making the model\n",
    "## Using Sequential Model"
   ]
  },
  {
   "cell_type": "code",
   "execution_count": 4,
   "metadata": {
    "execution": {
     "iopub.execute_input": "2020-09-20T14:42:47.903620Z",
     "iopub.status.busy": "2020-09-20T14:42:47.903018Z",
     "iopub.status.idle": "2020-09-20T14:42:50.975756Z",
     "shell.execute_reply": "2020-09-20T14:42:50.974902Z"
    },
    "papermill": {
     "duration": 3.086759,
     "end_time": "2020-09-20T14:42:50.975874",
     "exception": false,
     "start_time": "2020-09-20T14:42:47.889115",
     "status": "completed"
    },
    "tags": []
   },
   "outputs": [
    {
     "name": "stdout",
     "output_type": "stream",
     "text": [
      "Model: \"sequential\"\n",
      "_________________________________________________________________\n",
      "Layer (type)                 Output Shape              Param #   \n",
      "=================================================================\n",
      "conv2d (Conv2D)              (None, 126, 126, 32)      896       \n",
      "_________________________________________________________________\n",
      "dropout (Dropout)            (None, 126, 126, 32)      0         \n",
      "_________________________________________________________________\n",
      "conv2d_1 (Conv2D)            (None, 122, 122, 64)      51264     \n",
      "_________________________________________________________________\n",
      "max_pooling2d (MaxPooling2D) (None, 61, 61, 64)        0         \n",
      "_________________________________________________________________\n",
      "dropout_1 (Dropout)          (None, 61, 61, 64)        0         \n",
      "_________________________________________________________________\n",
      "conv2d_2 (Conv2D)            (None, 57, 57, 128)       204928    \n",
      "_________________________________________________________________\n",
      "max_pooling2d_1 (MaxPooling2 (None, 14, 14, 128)       0         \n",
      "_________________________________________________________________\n",
      "dropout_2 (Dropout)          (None, 14, 14, 128)       0         \n",
      "_________________________________________________________________\n",
      "flatten (Flatten)            (None, 25088)             0         \n",
      "_________________________________________________________________\n",
      "dense (Dense)                (None, 64)                1605696   \n",
      "_________________________________________________________________\n",
      "dense_1 (Dense)              (None, 8)                 520       \n",
      "=================================================================\n",
      "Total params: 1,863,304\n",
      "Trainable params: 1,863,304\n",
      "Non-trainable params: 0\n",
      "_________________________________________________________________\n"
     ]
    }
   ],
   "source": [
    "seq = Sequential([\n",
    "    Conv2D(32, 3, activation='relu', input_shape=(128, 128, 3)),\n",
    "    Dropout(0.2),\n",
    "    Conv2D(64, 5, activation='relu'),\n",
    "    MaxPooling2D(2),\n",
    "    Dropout(0.2),\n",
    "    \n",
    "    Conv2D(128, 5, activation='relu'),\n",
    "    MaxPooling2D(4),\n",
    "    Dropout(0.2),\n",
    "    \n",
    "    Flatten(),\n",
    "    \n",
    "    Dense(64, activation='relu'),\n",
    "    \n",
    "    Dense(8, activation='softmax')\n",
    "])\n",
    "seq.summary()\n"
   ]
  },
  {
   "cell_type": "code",
   "execution_count": 5,
   "metadata": {
    "execution": {
     "iopub.execute_input": "2020-09-20T14:42:51.004374Z",
     "iopub.status.busy": "2020-09-20T14:42:51.001452Z",
     "iopub.status.idle": "2020-09-20T14:58:38.071134Z",
     "shell.execute_reply": "2020-09-20T14:58:38.071905Z"
    },
    "papermill": {
     "duration": 947.087376,
     "end_time": "2020-09-20T14:58:38.072073",
     "exception": false,
     "start_time": "2020-09-20T14:42:50.984697",
     "status": "completed"
    },
    "tags": []
   },
   "outputs": [
    {
     "name": "stdout",
     "output_type": "stream",
     "text": [
      "Epoch 1/25\n",
      "173/173 [==============================] - 47s 271ms/step - loss: 1.0805 - acc: 0.6043 - val_loss: 0.6507 - val_acc: 0.7683\n",
      "Epoch 2/25\n",
      "173/173 [==============================] - 38s 217ms/step - loss: 0.4817 - acc: 0.8218 - val_loss: 0.4574 - val_acc: 0.8381\n",
      "Epoch 3/25\n",
      "173/173 [==============================] - 37s 214ms/step - loss: 0.3588 - acc: 0.8606 - val_loss: 0.4196 - val_acc: 0.8359\n",
      "Epoch 4/25\n",
      "173/173 [==============================] - 36s 208ms/step - loss: 0.3081 - acc: 0.8850 - val_loss: 0.3815 - val_acc: 0.8678\n",
      "Epoch 5/25\n",
      "173/173 [==============================] - 37s 215ms/step - loss: 0.2573 - acc: 0.9040 - val_loss: 0.3002 - val_acc: 0.9012\n",
      "Epoch 6/25\n",
      "173/173 [==============================] - 36s 211ms/step - loss: 0.2231 - acc: 0.9165 - val_loss: 0.2675 - val_acc: 0.8976\n",
      "Epoch 7/25\n",
      "173/173 [==============================] - 37s 215ms/step - loss: 0.2106 - acc: 0.9189 - val_loss: 0.3005 - val_acc: 0.8903\n",
      "Epoch 8/25\n",
      "173/173 [==============================] - 37s 214ms/step - loss: 0.2025 - acc: 0.9218 - val_loss: 0.3001 - val_acc: 0.8969\n",
      "Epoch 9/25\n",
      "173/173 [==============================] - 37s 213ms/step - loss: 0.1847 - acc: 0.9299 - val_loss: 0.2611 - val_acc: 0.9056\n",
      "Epoch 10/25\n",
      "173/173 [==============================] - 37s 214ms/step - loss: 0.1701 - acc: 0.9379 - val_loss: 0.2718 - val_acc: 0.9078\n",
      "Epoch 11/25\n",
      "173/173 [==============================] - 37s 212ms/step - loss: 0.1576 - acc: 0.9357 - val_loss: 0.2051 - val_acc: 0.9245\n",
      "Epoch 12/25\n",
      "173/173 [==============================] - 37s 211ms/step - loss: 0.1652 - acc: 0.9382 - val_loss: 0.3124 - val_acc: 0.8882\n",
      "Epoch 13/25\n",
      "173/173 [==============================] - 37s 214ms/step - loss: 0.1431 - acc: 0.9480 - val_loss: 0.2510 - val_acc: 0.9143\n",
      "Epoch 14/25\n",
      "173/173 [==============================] - 36s 210ms/step - loss: 0.1365 - acc: 0.9482 - val_loss: 0.2409 - val_acc: 0.9179\n",
      "Epoch 15/25\n",
      "173/173 [==============================] - 38s 218ms/step - loss: 0.1282 - acc: 0.9547 - val_loss: 0.2000 - val_acc: 0.9288\n",
      "Epoch 16/25\n",
      "173/173 [==============================] - 37s 213ms/step - loss: 0.1285 - acc: 0.9506 - val_loss: 0.3525 - val_acc: 0.8911\n",
      "Epoch 17/25\n",
      "173/173 [==============================] - 37s 212ms/step - loss: 0.1203 - acc: 0.9565 - val_loss: 0.1885 - val_acc: 0.9354\n",
      "Epoch 18/25\n",
      "173/173 [==============================] - 37s 216ms/step - loss: 0.1184 - acc: 0.9536 - val_loss: 0.2595 - val_acc: 0.9143\n",
      "Epoch 19/25\n",
      "173/173 [==============================] - 37s 212ms/step - loss: 0.0979 - acc: 0.9652 - val_loss: 0.2980 - val_acc: 0.8983\n",
      "Epoch 20/25\n",
      "173/173 [==============================] - 37s 212ms/step - loss: 0.1203 - acc: 0.9576 - val_loss: 0.2804 - val_acc: 0.9179\n",
      "Epoch 21/25\n",
      "173/173 [==============================] - 37s 214ms/step - loss: 0.0928 - acc: 0.9669 - val_loss: 0.1854 - val_acc: 0.9383\n",
      "Epoch 22/25\n",
      "173/173 [==============================] - 37s 211ms/step - loss: 0.1007 - acc: 0.9636 - val_loss: 0.2150 - val_acc: 0.9296\n",
      "Epoch 23/25\n",
      "173/173 [==============================] - 38s 218ms/step - loss: 0.1002 - acc: 0.9638 - val_loss: 0.2962 - val_acc: 0.8976\n",
      "Epoch 24/25\n",
      "173/173 [==============================] - 38s 217ms/step - loss: 0.1046 - acc: 0.9589 - val_loss: 0.3435 - val_acc: 0.9063\n",
      "Epoch 25/25\n",
      "173/173 [==============================] - 37s 215ms/step - loss: 0.1021 - acc: 0.9618 - val_loss: 0.2387 - val_acc: 0.9165\n"
     ]
    }
   ],
   "source": [
    "seq.compile(loss='categorical_crossentropy', optimizer='adam', metrics=['acc'])\n",
    "history = seq.fit(train_data, epochs=25, validation_data=test_data, )"
   ]
  },
  {
   "cell_type": "code",
   "execution_count": 6,
   "metadata": {
    "execution": {
     "iopub.execute_input": "2020-09-20T14:58:41.025603Z",
     "iopub.status.busy": "2020-09-20T14:58:41.024675Z",
     "iopub.status.idle": "2020-09-20T14:58:41.212109Z",
     "shell.execute_reply": "2020-09-20T14:58:41.212684Z"
    },
    "papermill": {
     "duration": 1.670907,
     "end_time": "2020-09-20T14:58:41.212834",
     "exception": false,
     "start_time": "2020-09-20T14:58:39.541927",
     "status": "completed"
    },
    "tags": []
   },
   "outputs": [
    {
     "data": {
      "text/plain": [
       "<matplotlib.legend.Legend at 0x7f0134345710>"
      ]
     },
     "execution_count": 6,
     "metadata": {},
     "output_type": "execute_result"
    },
    {
     "data": {
      "image/png": "[encoded data removed]",
      "text/plain": [
       "<Figure size 792x360 with 1 Axes>"
      ]
     },
     "metadata": {
      "needs_background": "light"
     },
     "output_type": "display_data"
    }
   ],
   "source": [
    "import matplotlib.pyplot as plt\n",
    "plt.figure(figsize=(11,5))\n",
    "plt.xlabel(\"Epochs\")\n",
    "plt.ylabel(\"Accuracy\")\n",
    "plt.title(\"Accuracy vs Validation Accuracy\")\n",
    "plt.plot(history.history['acc'], label='Train')\n",
    "plt.plot(history.history['val_acc'], label='Validation')\n",
    "plt.legend()"
   ]
  },
  {
   "cell_type": "code",
   "execution_count": 7,
   "metadata": {
    "execution": {
     "iopub.execute_input": "2020-09-20T14:58:44.159681Z",
     "iopub.status.busy": "2020-09-20T14:58:44.158668Z",
     "iopub.status.idle": "2020-09-20T14:58:44.318215Z",
     "shell.execute_reply": "2020-09-20T14:58:44.317712Z"
    },
    "papermill": {
     "duration": 1.636204,
     "end_time": "2020-09-20T14:58:44.318323",
     "exception": false,
     "start_time": "2020-09-20T14:58:42.682119",
     "status": "completed"
    },
    "tags": []
   },
   "outputs": [
    {
     "data": {
      "text/plain": [
       "<matplotlib.legend.Legend at 0x7f01102dc7d0>"
      ]
     },
     "execution_count": 7,
     "metadata": {},
     "output_type": "execute_result"
    },
    {
     "data": {
      "image/png": "[encoded data removed]",
      "text/plain": [
       "<Figure size 792x360 with 1 Axes>"
      ]
     },
     "metadata": {
      "needs_background": "light"
     },
     "output_type": "display_data"
    }
   ],
   "source": [
    "plt.figure(figsize=(11,5))\n",
    "plt.title('Loss vs Validation Loss')\n",
    "plt.xlabel(\"Epochs\")\n",
    "plt.ylabel(\"Loss\")\n",
    "plt.plot(history.history['loss'], label='Train')\n",
    "plt.plot(history.history['val_loss'], label='Validation')\n",
    "plt.legend()"
   ]
  },
  {
   "cell_type": "code",
   "execution_count": null,
   "metadata": {
    "papermill": {
     "duration": 1.94451,
     "end_time": "2020-09-20T14:58:47.842603",
     "exception": false,
     "start_time": "2020-09-20T14:58:45.898093",
     "status": "completed"
    },
    "tags": []
   },
   "outputs": [],
   "source": []
  }
 ],
 "metadata": {
  "kernelspec": {
   "display_name": "Python 3",
   "language": "python",
   "name": "python3"
  },
  "language_info": {
   "codemirror_mode": {
    "name": "ipython",
    "version": 3
   },
   "file_extension": ".py",
   "mimetype": "text/x-python",
   "name": "python",
   "nbconvert_exporter": "python",
   "pygments_lexer": "ipython3",
   "version": "3.7.6"
  },
  "papermill": {
   "duration": 972.287451,
   "end_time": "2020-09-20T14:58:51.025115",
   "environment_variables": {},
   "exception": null,
   "input_path": "__notebook__.ipynb",
   "output_path": "__notebook__.ipynb",
   "parameters": {},
   "start_time": "2020-09-20T14:42:38.737664",
   "version": "2.1.0"
  }
 },
 "nbformat": 4,
 "nbformat_minor": 4
}
